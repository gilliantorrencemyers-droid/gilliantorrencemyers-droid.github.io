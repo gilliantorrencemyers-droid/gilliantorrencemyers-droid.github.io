{
 "cells": [
  {
   "attachments": {
    "GT_Binf_logo.png": {
     "image/png": "[encoded data removed]"
    }
   },
   "cell_type": "markdown",
   "id": "9c239c02",
   "metadata": {},
   "source": [
    "![GT_Binf_logo.png](attachment:GT_Binf_logo.png)"
   ]
  },
  {
   "cell_type": "markdown",
   "id": "e53587e1",
   "metadata": {},
   "source": [
    "<div class=\"alert alert-block alert-info\">\n",
    "    <h1>BIOL 4150/BIOL 6150</h1>\n",
    "    <h3>Instructor: Dr. King Jordan</h3>\n",
    "    <p>Nilavrah Sensarma (nsensarma3@gatech.edu)</p>\n",
    "    <p>Valli Sree Lasya Pasumarthy (vpasumarthy3@gatech.edu)\n",
    "\n",
    "</p>\n",
    "</div>"
   ]
  },
  {
   "cell_type": "markdown",
   "id": "4c342f3f",
   "metadata": {},
   "source": [
    "<div class=\"alert alert-block alert-warning\">\n",
    "    <h2>Project 3 (Read Mapping & Variant Calling) starter notebook</h2>\n",
    "    <h3>Deadline: 11:59PM, September 29th, 2025</h3>\n",
    "</div>"
   ]
  },
  {
   "cell_type": "markdown",
   "id": "fe624496",
   "metadata": {},
   "source": [
    "### Rerun the analysis as demonstrated in the lab sessions\n"
   ]
  },
  {
   "cell_type": "markdown",
   "id": "879a14ff",
   "metadata": {},
   "source": [
    "---"
   ]
  },
  {
   "cell_type": "markdown",
   "id": "d571def6",
   "metadata": {},
   "source": [
    "<div class=\"alert alert-block alert-warning\">\n",
    "    <h2>Part 1 - Read Mapping</h2>\n",
    "    <h2> Total Points: 5+15+15 = 35</h2>\n",
    "</div>"
   ]
  },
  {
   "cell_type": "markdown",
   "id": "f404ae11",
   "metadata": {},
   "source": [
    "# **1.1 Getting read for read alignment**\n",
    "### *Total Questions: 5*\n",
    "### *Total Points: 0.5+0.5+1+2+1 = 5*\n",
    "\n",
    "\n",
    "---"
   ]
  },
  {
   "cell_type": "markdown",
   "id": "69ff09a1",
   "metadata": {},
   "source": [
    "<div class=\"alert alert-block alert-warning\">\n",
    "    <h3>1.1.1 Do you have the post-QCed fastq file from the assigned 1000 Genomes individual</h3>\n",
    "    <p>We will start from where we left off in Project #1. We want to make sure that we are using the correct QCed fastq files.</p>\n",
    "</div>"
   ]
  },
  {
   "cell_type": "code",
   "execution_count": 2,
   "id": "9a5c6620",
   "metadata": {},
   "outputs": [
    {
     "name": "stdout",
     "output_type": "stream",
     "text": [
      "total 3.9G\r\n",
      "-rw-r--r--. 1 gmyers30 gtperson 2.0G Sep 16 23:12 SRR715907_1.Trimmed.fastq.gz\r\n",
      "-rw-r--r--. 1 gmyers30 gtperson 2.0G Sep 16 23:12 SRR715907_2.Trimmed.fastq.gz\r\n"
     ]
    }
   ],
   "source": [
    "##Run \"ls -lh\" here to show the two fastq files.\n",
    "!ls -lh ~/scratch/Archived_Projects/DataAccess_SRR715907/Trimming/\n"
   ]
  },
  {
   "cell_type": "markdown",
   "id": "cad8ccda",
   "metadata": {},
   "source": [
    "<div class=\"alert alert-block alert-warning\">\n",
    "    <h3>1.1.2 Download the correct reference genome for alignment step</h3>\n",
    "    <p>Please locate and donwload the human reference genome fasta file in build GRCh38</p>\n",
    "</div>"
   ]
  },
  {
   "cell_type": "code",
   "execution_count": 4,
   "id": "aaa946ba",
   "metadata": {},
   "outputs": [
    {
     "name": "stdout",
     "output_type": "stream",
     "text": [
      "--2025-09-28 22:37:02--  https://hgdownload.cse.ucsc.edu/goldenPath/hg38/bigZips/hg38.fa.gz\n",
      "Resolving hgdownload.cse.ucsc.edu (hgdownload.cse.ucsc.edu)... 128.114.119.163\n",
      "Connecting to hgdownload.cse.ucsc.edu (hgdownload.cse.ucsc.edu)|128.114.119.163|:443... connected.\n",
      "HTTP request sent, awaiting response... 200 OK\n",
      "Length: 983659424 (938M) [application/x-gzip]\n",
      "Saving to: ‘hg38.fa.gz’\n",
      "\n",
      "hg38.fa.gz          100%[===================>] 938.09M  62.3MB/s    in 15s     \n",
      "\n",
      "2025-09-28 22:37:18 (60.7 MB/s) - ‘hg38.fa.gz’ saved [983659424/983659424]\n",
      "\n",
      "total 951M\n",
      "-rw-r--r--. 1 gmyers30 gtperson 122K Sep 26 15:46 'Project2-ReadMapping&VariantCalling.ipynb'\n",
      "-rw-r--r--. 1 gmyers30 gtperson 151K Sep 28 22:36 'Project2-ReadMapping&VariantCalling_Gillian.ipynb'\n",
      "drwxr-xr-x. 2 gmyers30 gtperson 4.0K Sep 28 13:31  ReadAlignment\n",
      "-rw-r--r--. 1 gmyers30 gtperson    0 Sep 28 13:32  SRR715907.mpileup\n",
      "-rw-r--r--. 1 gmyers30 gtperson    0 Sep 28 16:18  VarScan.jar\n",
      "drwxr-xr-x. 2 gmyers30 gtperson 4.0K Sep 28 17:37  VariantCalling\n",
      "-rw-r--r--. 1 gmyers30 gtperson 9.0M Sep 28 17:35  combined_variants.vcf\n",
      "-rw-r--r--. 1 gmyers30 gtperson 939M Jan 16  2014  hg38.fa.gz\n",
      "-rw-r--r--. 1 gmyers30 gtperson 2.9M Sep 28 17:35  variants_DPgt50.vcf\n"
     ]
    }
   ],
   "source": [
    "#Where does this file come from? Give the website link (FTP?) or explain how you downloaed this file.\n",
    "###https://hgdownload.soe.ucsc.edu/goldenPath/hg38/chromosomes/\n",
    "\n",
    "#Also run \"ls -lh\" here to see the size and location of your reference file.\n",
    "!wget https://hgdownload.cse.ucsc.edu/goldenPath/hg38/bigZips/hg38.fa.gz\n",
    "!ls -lh\n"
   ]
  },
  {
   "cell_type": "code",
   "execution_count": null,
   "id": "3fde37d6",
   "metadata": {},
   "outputs": [],
   "source": [
    "#Moving to more specific folder\n",
    "!mkdir -p ~/scratch/Current_Projects/Project_2/ReadAlignment/\n",
    "!mv hg38.fa.gz ~/scratch/Current_Projects/Project_2/ReadAlignment/\n",
    "!ls -lh ~/scratch/Current_Projects/Project_2/ReadAlignment/"
   ]
  },
  {
   "cell_type": "markdown",
   "id": "c9db3bcf",
   "metadata": {},
   "source": [
    "<div class=\"alert alert-block alert-warning\">\n",
    "    <h3>1.1.3 Find out about your reference genome file.</h3>\n",
    "    <p>Does your reference fasta file have more information that just ACGT nucleotides? Please check if your fastq sequence have Ns or small/upper case ACGT nnucleotides.</p>\n",
    "</div>"
   ]
  },
  {
   "cell_type": "code",
   "execution_count": null,
   "id": "3637229e",
   "metadata": {},
   "outputs": [],
   "source": [
    "#Just glance over the fasta file. There is no need to run a script for this. \n",
    "#Write in one sentence if you see more than just upper case ACGT nucleotides.\n",
    "####yes there are some smaller gt and a nucleotides as well as N"
   ]
  },
  {
   "cell_type": "markdown",
   "id": "09d4c26a",
   "metadata": {},
   "source": [
    "<div class=\"alert alert-block alert-warning\">\n",
    "    <h3>1.1.4 Using 1-3 lines, explain what upper case ACGT, lower case ACGT, and NNNs mean in your reference fasta file.</h3>\n",
    "    <p>Hint: check readme files.</p>\n",
    "</div>"
   ]
  },
  {
   "cell_type": "code",
   "execution_count": null,
   "id": "9ac4084c",
   "metadata": {},
   "outputs": [],
   "source": [
    "#No need to exceed 3 lines for this question.\n",
    "#couldnt access the read me files so I used this to get help from professionals and not AI: https://bioinformatics.stackexchange.com/questions/225/uppercase-vs-lowercase-letters-in-reference-genome\n",
    "\n",
    "#The normal ACTG are nucleotides that are unambigious, N is for \"hard masking\" or regions of the genome that could not be assembled\n",
    "# n is \"soft masking\" and are for highly repetitive sequences\n"
   ]
  },
  {
   "cell_type": "markdown",
   "id": "781d9e4d",
   "metadata": {},
   "source": [
    "<div class=\"alert alert-block alert-warning\">\n",
    "    <h3>1.1.5 Select a tool for read alignment.</h3>\n",
    "    <p>We have demonstrated bwa and minimap2 in the class. Use either of the tools for this section.</p>\n",
    "</div>"
   ]
  },
  {
   "cell_type": "code",
   "execution_count": 5,
   "id": "9627b913",
   "metadata": {},
   "outputs": [
    {
     "name": "stdout",
     "output_type": "stream",
     "text": [
      "Usage: minimap2 [options] <target.fa>|<target.idx> [query.fa] [...]\r\n",
      "Options:\r\n",
      "  Indexing:\r\n",
      "    -H           use homopolymer-compressed k-mer (preferrable for PacBio)\r\n",
      "    -k INT       k-mer size (no larger than 28) [15]\r\n",
      "    -w INT       minimizer window size [10]\r\n",
      "    -I NUM       split index for every ~NUM input bases [8G]\r\n",
      "    -d FILE      dump index to FILE []\r\n",
      "  Mapping:\r\n",
      "    -f FLOAT     filter out top FLOAT fraction of repetitive minimizers [0.0002]\r\n",
      "    -g NUM       stop chain enlongation if there are no minimizers in INT-bp [5000]\r\n",
      "    -G NUM       max intron length (effective with -xsplice; changing -r) [200k]\r\n",
      "    -F NUM       max fragment length (effective with -xsr or in the fragment mode) [800]\r\n",
      "    -r NUM[,NUM] chaining/alignment bandwidth and long-join bandwidth [500,20000]\r\n",
      "    -n INT       minimal number of minimizers on a chain [3]\r\n",
      "    -m INT       minimal chaining score (matching bases minus log gap penalty) [40]\r\n",
      "    -X           skip self and dual mappings (for the all-vs-all mode)\r\n",
      "    -p FLOAT     min secondary-to-primary score ratio [0.8]\r\n",
      "    -N INT       retain at most INT secondary alignments [5]\r\n",
      "  Alignment:\r\n",
      "    -A INT       matching score [2]\r\n",
      "    -B INT       mismatch penalty (larger value for lower divergence) [4]\r\n",
      "    -O INT[,INT] gap open penalty [4,24]\r\n",
      "    -E INT[,INT] gap extension penalty; a k-long gap costs min{O1+k*E1,O2+k*E2} [2,1]\r\n",
      "    -z INT[,INT] Z-drop score and inversion Z-drop score [400,200]\r\n",
      "    -s INT       minimal peak DP alignment score [80]\r\n",
      "    -u CHAR      how to find GT-AG. f:transcript strand, b:both strands, n:don't match GT-AG [n]\r\n",
      "    -J INT       splice mode. 0: original minimap2 model; 1: miniprot model [1]\r\n",
      "  Input/Output:\r\n",
      "    -a           output in the SAM format (PAF by default)\r\n",
      "    -o FILE      output alignments to FILE [stdout]\r\n",
      "    -L           write CIGAR with >65535 ops at the CG tag\r\n",
      "    -R STR       SAM read group line in a format like '@RG\\tID:foo\\tSM:bar' []\r\n",
      "    -c           output CIGAR in PAF\r\n",
      "    --cs[=STR]   output the cs tag; STR is 'short' (if absent) or 'long' [none]\r\n",
      "    --MD         output the MD tag\r\n",
      "    --eqx        write =/X CIGAR operators\r\n",
      "    -Y           use soft clipping for supplementary alignments\r\n",
      "    -t INT       number of threads [3]\r\n",
      "    -K NUM       minibatch size for mapping [500M]\r\n",
      "    --version    show version number\r\n",
      "  Preset:\r\n",
      "    -x STR       preset (always applied before other options; see minimap2.1 for details) []\r\n",
      "                 - map-pb/map-ont - PacBio CLR/Nanopore vs reference mapping\r\n",
      "                 - map-hifi - PacBio HiFi reads vs reference mapping\r\n",
      "                 - ava-pb/ava-ont - PacBio/Nanopore read overlap\r\n",
      "                 - asm5/asm10/asm20 - asm-to-ref mapping, for ~0.1/1/5% sequence divergence\r\n",
      "                 - splice/splice:hq - long-read/Pacbio-CCS spliced alignment\r\n",
      "                 - sr - genomic short-read mapping\r\n",
      "\r\n",
      "See `man ./minimap2.1' for detailed description of these and other advanced command-line options.\r\n"
     ]
    }
   ],
   "source": [
    "#Run your tool here to just make sure bash does not say \"not found\"\n",
    "#minimap2 twin\n",
    "!minimap2"
   ]
  },
  {
   "cell_type": "markdown",
   "id": "1be29a73",
   "metadata": {},
   "source": [
    "# **1.2 Read alignment**\n",
    "### *Total Questions: 4*\n",
    "### *Total Points: 2+3+2+8= 15*\n",
    "\n",
    "---"
   ]
  },
  {
   "cell_type": "markdown",
   "id": "eef406db",
   "metadata": {},
   "source": [
    "<div class=\"alert alert-block alert-warning\">\n",
    "    <h3>1.2.1 Steps before mapping</h3>\n",
    "    <p>You already have a fasta file, but sometimes alignment tools do not accept fasta files directly. Please read your aligners documentation and run all the preliminary steps require to run the mapping command from your aligner.</p>\n",
    "</div>"
   ]
  },
  {
   "cell_type": "markdown",
   "id": "69501c85",
   "metadata": {},
   "source": [
    "<div class=\"alert alert-block alert-info\">\n",
    "    <p>Preliminary commands go in the cells below. Please use appropriate comments and markdown texts to explain what your command is doing.</p>\n",
    "</div>"
   ]
  },
  {
   "cell_type": "code",
   "execution_count": 6,
   "id": "e6742cc0",
   "metadata": {},
   "outputs": [
    {
     "name": "stdout",
     "output_type": "stream",
     "text": [
      "total 29G\n",
      "-rw-r--r--. 1 gmyers30 gtperson  19G Sep 26 13:52 SRR715907.Minimap.sam\n",
      "-rw-r--r--. 1 gmyers30 gtperson 3.1G Jan 16  2014 hg38.fa\n",
      "-rw-r--r--. 1 gmyers30 gtperson  19K Sep 28 13:31 hg38.fa.fai\n",
      "-rw-r--r--. 1 gmyers30 gtperson 7.0G Sep 26 13:26 hg38.mmi\n",
      "gzip: /home/hice1/gmyers30/scratch/Current_Projects/Project_2/ReadAlignment/hg38.fa.gz: No such file or directory\n"
     ]
    }
   ],
   "source": [
    "!ls -lh ~/scratch/Current_Projects/Project_2/ReadAlignment/\n",
    "#cheking to see if its in the right location again and size of files\n",
    "\n",
    "!gunzip ~/scratch/Current_Projects/Project_2/ReadAlignment/hg38.fa.gz\n",
    "#unzipping files(gz) into the fa files and placing them in directory\n"
   ]
  },
  {
   "cell_type": "code",
   "execution_count": 7,
   "id": "becbd45d",
   "metadata": {},
   "outputs": [
    {
     "name": "stdout",
     "output_type": "stream",
     "text": [
      "total 29G\n",
      "-rw-r--r--. 1 gmyers30 gtperson  19G Sep 26 13:52 SRR715907.Minimap.sam\n",
      "-rw-r--r--. 1 gmyers30 gtperson 3.1G Jan 16  2014 hg38.fa\n",
      "-rw-r--r--. 1 gmyers30 gtperson  19K Sep 28 13:31 hg38.fa.fai\n",
      "-rw-r--r--. 1 gmyers30 gtperson 7.0G Sep 26 13:26 hg38.mmi\n",
      ">chr1\n",
      "NNNNNNNNNNNNNNNNNNNNNNNNNNNNNNNNNNNNNNNNNNNNNNNNNN\n",
      "NNNNNNNNNNNNNNNNNNNNNNNNNNNNNNNNNNNNNNNNNNNNNNNNNN\n",
      "NNNNNNNNNNNNNNNNNNNNNNNNNNNNNNNNNNNNNNNNNNNNNNNNNN\n",
      "NNNNNNNNNNNNNNNNNNNNNNNNNNNNNNNNNNNNNNNNNNNNNNNNNN\n",
      "NNNNNNNNNNNNNNNNNNNNNNNNNNNNNNNNNNNNNNNNNNNNNNNNNN\n",
      "NNNNNNNNNNNNNNNNNNNNNNNNNNNNNNNNNNNNNNNNNNNNNNNNNN\n",
      "NNNNNNNNNNNNNNNNNNNNNNNNNNNNNNNNNNNNNNNNNNNNNNNNNN\n",
      "NNNNNNNNNNNNNNNNNNNNNNNNNNNNNNNNNNNNNNNNNNNNNNNNNN\n",
      "NNNNNNNNNNNNNNNNNNNNNNNNNNNNNNNNNNNNNNNNNNNNNNNNNN\n",
      "AGGAGAGGTCGGTGCCGGGTCCCGGGGGTcccgcgccctccccccgcctc\n",
      "caagccgccgccgcccgcgccTCACCCGTCACCTGCACGCGACGCAGGCT\n",
      "CCGCAGGTGTCTCACGGTCATCTCCAGGATGTCCGCCTTCTCCAGCTTCG\n",
      "AGTGGCGGGAGCTCTGGGGGCGGGGATAGGCGGGAGGTCCAGGTCAGCTG\n",
      "CGACCCAGACTCCGGGTCTCGGGCCTTCGCCCCCGACTTACCTCTTTTCT\n",
      "GAGGGCGTCCAGGATGAGGGTTTTGAGCTGAGCGAGGCTCTCGTTAATAC\n",
      "GCGCTCGGCGCCGCTTCTCCATGACCGGCTTGGAGGACTGCGGGTCGGGC\n",
      "ACCGGCTGAGTCCCGCGTCCCTCCCGCCCCCCGGTCGCCCCCCTCACGCC\n",
      "CGGCCGGGACCCCACCTTGCGGTGCTCGGCCGCGCTCCGGGGCTTGTCTG\n",
      "GGGTCCGGCTGGCGCTGGCCGGCGCTCCTGCCATCGGCGAGGCGCTCGGT\n"
     ]
    }
   ],
   "source": [
    "!ls -lh ~/scratch/Current_Projects/Project_2/ReadAlignment/\n",
    "#showing first 10 lines of the file\n",
    "!head ~/scratch/Current_Projects/Project_2/ReadAlignment/hg38.fa\n",
    "#-n20000 = grabs first 20,000 lines of the file\n",
    "# | tail = from those 20,000 lines show the last 10\n",
    "#essentially to check formatting + quality without showing the entire genome\n",
    "!head ~/scratch/Current_Projects/Project_2/ReadAlignment/hg38.fa -n20000 | tail\n",
    "\n",
    "\n"
   ]
  },
  {
   "cell_type": "code",
   "execution_count": 8,
   "id": "cd539a2c",
   "metadata": {},
   "outputs": [
    {
     "name": "stdout",
     "output_type": "stream",
     "text": [
      "total 29G\r\n",
      "-rw-r--r--. 1 gmyers30 gtperson  19G Sep 26 13:52 SRR715907.Minimap.sam\r\n",
      "-rw-r--r--. 1 gmyers30 gtperson 3.1G Jan 16  2014 hg38.fa\r\n",
      "-rw-r--r--. 1 gmyers30 gtperson  19K Sep 28 13:31 hg38.fa.fai\r\n",
      "-rw-r--r--. 1 gmyers30 gtperson 7.0G Sep 26 13:26 hg38.mmi\r\n"
     ]
    }
   ],
   "source": [
    "#Run\"ls -lh\" to show what additional files were created in addition to your original fasta files.\n",
    "\n",
    "!ls -lh ~/scratch/Current_Projects/Project_2/ReadAlignment/"
   ]
  },
  {
   "cell_type": "markdown",
   "id": "e549fcbe",
   "metadata": {},
   "source": [
    "<div class=\"alert alert-block alert-warning\">\n",
    "    <h3>1.2.2 Run mapping.</h3>\n",
    "    <p>This should be one or two lines of code but it's important to understand what the options are doing.</p>\n",
    "</div>"
   ]
  },
  {
   "cell_type": "code",
   "execution_count": 1,
   "id": "d477ef96",
   "metadata": {},
   "outputs": [
    {
     "name": "stdout",
     "output_type": "stream",
     "text": [
      "[M::mm_idx_gen::61.502*1.59] collected minimizers\n",
      "[M::mm_idx_gen::85.786*1.68] sorted minimizers\n",
      "[M::main::96.161*1.61] loaded/built the index for 455 target sequence(s)\n",
      "[M::mm_idx_stat] kmer size: 15; skip: 10; is_hpc: 0; #seq: 455\n",
      "[M::mm_idx_stat::97.386*1.60] distinct minimizers: 100202295 (37.96% are singletons); average occurrences: 5.732; average spacing: 5.587; total length: 3209286105\n",
      "[M::main] Version: 2.26-r1175\n",
      "[M::main] CMD: minimap2 -d /home/hice1/gmyers30/scratch/Current_Projects/Project_2/ReadAlignment/hg38.mmi /home/hice1/gmyers30/scratch/Current_Projects/Project_2/ReadAlignment/hg38.fa\n",
      "[M::main] Real time: 97.569 sec; CPU: 155.991 sec; Peak RSS: 11.978 GB\n",
      "total 11G\n",
      "-rw-r--r--. 1 gmyers30 gtperson 3.1G Jan 16  2014 hg38.fa\n",
      "-rw-r--r--. 1 gmyers30 gtperson 7.0G Sep 26 13:26 hg38.mmi\n"
     ]
    }
   ],
   "source": [
    "#Alignment w/minimap\n",
    "!minimap2 -d ~/scratch/Current_Projects/Project_2/ReadAlignment/hg38.mmi ~/scratch/Current_Projects/Project_2/ReadAlignment/hg38.fa    \n",
    "!ls -lh ~/scratch/Current_Projects/Project_2/ReadAlignment/"
   ]
  },
  {
   "cell_type": "code",
   "execution_count": 4,
   "id": "a4b74518",
   "metadata": {},
   "outputs": [
    {
     "name": "stdout",
     "output_type": "stream",
     "text": [
      "[M::main::8.614*0.99] loaded/built the index for 455 target sequence(s)\n",
      "[M::mm_mapopt_update::10.309*0.99] mid_occ = 728\n",
      "[M::mm_idx_stat] kmer size: 15; skip: 10; is_hpc: 0; #seq: 455\n",
      "[M::mm_idx_stat::11.527*0.99] distinct minimizers: 100202295 (37.96% are singletons); average occurrences: 5.732; average spacing: 5.587; total length: 3209286105\n",
      "[M::worker_pipeline::198.752*1.86] mapped 6759446 sequences\n",
      "[M::worker_pipeline::356.300*1.92] mapped 6759522 sequences\n",
      "[M::worker_pipeline::514.579*1.94] mapped 6759483 sequences\n",
      "[M::worker_pipeline::670.774*1.95] mapped 6759512 sequences\n",
      "[M::worker_pipeline::705.596*1.94] mapped 2162928 sequences\n",
      "[M::worker_pipeline::890.977*1.94] mapped 6759446 sequences\n",
      "[M::worker_pipeline::1049.168*1.94] mapped 6759522 sequences\n",
      "[M::worker_pipeline::1209.191*1.95] mapped 6759483 sequences\n",
      "[M::worker_pipeline::1362.752*1.95] mapped 6759512 sequences\n",
      "[M::worker_pipeline::1397.109*1.95] mapped 2162928 sequences\n",
      "[M::main] Version: 2.26-r1175\n",
      "[M::main] CMD: minimap2 -c -a /home/hice1/gmyers30/scratch/Current_Projects/Project_2/ReadAlignment/hg38.mmi /home/hice1/gmyers30/scratch/Archived_Projects/DataAccess_SRR715907/Trimming/SRR715907_1.Trimmed.fastq.gz /home/hice1/gmyers30/scratch/Archived_Projects/DataAccess_SRR715907/Trimming/SRR715907_2.Trimmed.fastq.gz\n",
      "[M::main] Real time: 1397.492 sec; CPU: 2726.405 sec; Peak RSS: 12.494 GB\n"
     ]
    }
   ],
   "source": [
    "!minimap2 -c -a ~/scratch/Current_Projects/Project_2/ReadAlignment/hg38.mmi ~/scratch/Archived_Projects/DataAccess_SRR715907/Trimming/SRR715907_1.Trimmed.fastq.gz ~/scratch/Archived_Projects/DataAccess_SRR715907/Trimming/SRR715907_2.Trimmed.fastq.gz > ~/scratch/Current_Projects/Project_2/ReadAlignment/SRR715907.Minimap.sam  \n"
   ]
  },
  {
   "cell_type": "markdown",
   "id": "b173bfb2",
   "metadata": {},
   "source": [
    "using minimap, we used -a and -c for input/output. -a is to output in the SAM file, while -c was used to output the CIGAR string for the reads to a PAF. "
   ]
  },
  {
   "cell_type": "markdown",
   "id": "f64d8c5c",
   "metadata": {},
   "source": [
    "<div class=\"alert alert-block alert-warning\">\n",
    "    <h3>1.2.3 Post alignment evaluation.</h3>\n",
    "    <p>How many lines does your SAM file have?</p>\n",
    "</div>"
   ]
  },
  {
   "cell_type": "code",
   "execution_count": 4,
   "id": "72f95241",
   "metadata": {},
   "outputs": [
    {
     "name": "stdout",
     "output_type": "stream",
     "text": [
      "@HD\tVN:1.6\tSO:unsorted\tGO:query\n",
      "@SQ\tSN:chr1\tLN:248956422\n",
      "@SQ\tSN:chr10\tLN:133797422\n",
      "@SQ\tSN:chr11\tLN:135086622\n",
      "@SQ\tSN:chr11_KI270721v1_random\tLN:100316\n",
      "@SQ\tSN:chr12\tLN:133275309\n",
      "@SQ\tSN:chr13\tLN:114364328\n",
      "@SQ\tSN:chr14\tLN:107043718\n",
      "@SQ\tSN:chr14_GL000009v2_random\tLN:201709\n",
      "@SQ\tSN:chr14_GL000225v1_random\tLN:211173\n",
      "   86455193  1777742100 19560781883 /home/hice1/gmyers30/scratch/Current_Projects/Project_2/ReadAlignment/SRR715907.Minimap.sam\n"
     ]
    }
   ],
   "source": [
    "#Checking output file\n",
    "!head ~/scratch/Current_Projects/Project_2/ReadAlignment/SRR715907.Minimap.sam\n",
    "!wc ~/scratch/Current_Projects/Project_2/ReadAlignment/SRR715907.Minimap.sam"
   ]
  },
  {
   "cell_type": "markdown",
   "id": "da445c97",
   "metadata": {},
   "source": [
    "<div class=\"alert alert-block alert-warning\">\n",
    "    <h3>1.2.4 Look at the 7th read that maps successfully in your SAM file and answer the following questions.                     (4*2 = 8 points)</h3>\n",
    "    <p>1. What chromosome does it align to?</p>\n",
    "    <p>2. What is the CIGAR string for this read? Explain the CIGAR string in detail.</p>\n",
    "    <p>3. Does this read have a paired read which also aligns successfully?</p>\n",
    "    <p>4. If the paired read aligns successfully, what does the CIGAR string for this read convey?</p>\n",
    "</div>"
   ]
  },
  {
   "cell_type": "code",
   "execution_count": 2,
   "id": "8be1f508",
   "metadata": {},
   "outputs": [
    {
     "name": "stdout",
     "output_type": "stream",
     "text": [
      "SRR715907.10\t16\tchr1\t53090753\t56\t74M\t*\t0\t0\tTCGATGTGGTTGTTCTCCAGCAGGCACTTGAAGGTGATGGGCAGTGTGGCTGAGCTACGGTTAGAGGGGCCGGT\tDDDDDDDBDC>DDDDDDDDEEEEEEFFFFFFHHHHHJJJJJJJIGJJJJJJJJJJJJJJJJIJJJJJJJJJJJH\tNM:i:0\tms:i:148\tAS:i:148\tnn:i:0\ttp:A:P\tcm:i:11\ts1:i:73\ts2:i:0\tde:f:0\trl:i:0\r\n"
     ]
    }
   ],
   "source": [
    "!awk '!/^@/ && and($2, 4) == 0 {count++; if (count == 7) print;}' ~/scratch/Current_Projects/Project_2/ReadAlignment/SRR715907.Minimap.sam"
   ]
  },
  {
   "cell_type": "markdown",
   "id": "72dbb2f7",
   "metadata": {},
   "source": [
    "1. chromosome 1\n",
    "2. 74 M = 74 bases aligned, no insertions, deletions, etc.\n",
    "3. Flag field is the second column, 16, so it is single end and aligned successfully. However, this read is not paired so we cannot determine if it mapped successfully.\n",
    "4. We cannot determine this information yet."
   ]
  },
  {
   "cell_type": "markdown",
   "id": "0f530460",
   "metadata": {},
   "source": [
    "# **1.3 Read alignment evaluation**\n",
    "### *Total Questions: 5*\n",
    "### *Total Points: 2+2+3+2+6 = 15*\n",
    "\n",
    "\n",
    "---"
   ]
  },
  {
   "cell_type": "markdown",
   "id": "6dc0f9f5",
   "metadata": {},
   "source": [
    "<div class=\"alert alert-block alert-warning\">\n",
    "    <h3>1.3.1 Samtools is a classic bioinformatics tools.</h3>\n",
    "    <p>Check if you have samtools installed on your environment.</p>\n",
    "</div>"
   ]
  },
  {
   "cell_type": "code",
   "execution_count": 2,
   "id": "4b469ea4",
   "metadata": {},
   "outputs": [
    {
     "name": "stdout",
     "output_type": "stream",
     "text": [
      "usage: SAMstats [-h] --sorted_sam_file SORTED_SAM_FILE [--outf OUTF]\r\n",
      "                [--chunk_size CHUNK_SIZE]\r\n",
      "\r\n",
      "Compute SAM file mapping statistics for a SAM file sorted by read name\r\n",
      "\r\n",
      "options:\r\n",
      "  -h, --help            show this help message and exit\r\n",
      "  --sorted_sam_file SORTED_SAM_FILE\r\n",
      "                        Input SAM file. Use '-' if input is being piped from\r\n",
      "                        stdin. File must be sorted by read name.\r\n",
      "  --outf OUTF           Output file name to store alignment statistics. The\r\n",
      "                        statistics will be printed to stdout if no file is\r\n",
      "                        provided\r\n",
      "  --chunk_size CHUNK_SIZE\r\n",
      "                        Number of lines to read a time from sortedSamFile\r\n"
     ]
    }
   ],
   "source": [
    "!SAMstats --help"
   ]
  },
  {
   "cell_type": "markdown",
   "id": "3c73d9fc",
   "metadata": {},
   "source": [
    "<div class=\"alert alert-block alert-warning\">\n",
    "    <h3>1.3.2 Is your SAM file sorted by coordinates?</h3>\n",
    "    <p>SAM or BAM (which we will create later) can be sorted by the read name or read coordinate. Look at your SAM file and see if you can run a Samtools command to find out if your file is sorted. (Hint: Google your question)</p>\n",
    "</div>"
   ]
  },
  {
   "cell_type": "code",
   "execution_count": 1,
   "id": "59076e1b",
   "metadata": {},
   "outputs": [
    {
     "name": "stdout",
     "output_type": "stream",
     "text": [
      "total 22G\r\n",
      "-rw-r--r--. 1 gmyers30 gtperson  19G Sep 28 13:31 SRR715907.Minimap.sam\r\n",
      "-rw-r--r--. 1 gmyers30 gtperson 3.1G Sep 28 13:31 hg38.fa\r\n"
     ]
    }
   ],
   "source": [
    "#moving file\n",
    "!mkdir -p ~/scratch/Current_Projects/Project_2/VariantCalling/\n",
    "!cp ~/scratch/Current_Projects/Project_2/ReadAlignment/hg38.fa* ~/scratch/Current_Projects/Project_2/VariantCalling/\n",
    "!cp ~/scratch/Current_Projects/Project_2/ReadAlignment/SRR715907.Minimap.sam ~/scratch/Current_Projects/Project_2/VariantCalling/\n",
    "\n",
    "!ls -lh ~/scratch/Current_Projects/Project_2/VariantCalling/"
   ]
  },
  {
   "cell_type": "code",
   "execution_count": 3,
   "id": "356dfa9c",
   "metadata": {},
   "outputs": [
    {
     "name": "stdout",
     "output_type": "stream",
     "text": [
      "[mpileup] 1 samples in 1 input files\n",
      "[E::bam_plp_push] The input is not sorted (chromosomes out of order)\n",
      "samtools mpileup: error reading from input file\n"
     ]
    }
   ],
   "source": [
    "#IS the file sorted? NO IT IS NOT SORTED\n",
    "!samtools mpileup -f ~/scratch/Current_Projects/Project_2/ReadAlignment/hg38.fa ~/scratch/Current_Projects/Project_2/ReadAlignment/SRR715907.Minimap.sam > SRR715907.mpileup\n"
   ]
  },
  {
   "cell_type": "code",
   "execution_count": 6,
   "id": "b99d6a4b",
   "metadata": {},
   "outputs": [
    {
     "name": "stdout",
     "output_type": "stream",
     "text": [
      "[bam_sort_core] merging from 24 files and 1 in-memory blocks...\r\n"
     ]
    }
   ],
   "source": [
    "#Beginning to sort the file (REQUIRED FOR NEXT STEP)\n",
    "!samtools sort -o ~/scratch/Current_Projects/Project_2/VariantCalling/SRR715907.Minimap.sorted.sam ~/scratch/Current_Projects/Project_2/VariantCalling/SRR715907.Minimap.sam"
   ]
  },
  {
   "cell_type": "code",
   "execution_count": 8,
   "id": "11b2ac94",
   "metadata": {
    "scrolled": true
   },
   "outputs": [
    {
     "name": "stdout",
     "output_type": "stream",
     "text": [
      "[mpileup] 1 samples in 1 input files\r\n"
     ]
    }
   ],
   "source": [
    "#mpileup\n",
    "!samtools mpileup -f ~/scratch/Current_Projects/Project_2/VariantCalling/hg38.fa ~/scratch/Current_Projects/Project_2/VariantCalling/SRR715907.Minimap.sorted.sam > ~/scratch/Current_Projects/Project_2/VariantCalling/SRR715907.mpileup"
   ]
  },
  {
   "cell_type": "markdown",
   "id": "1992e6f1",
   "metadata": {},
   "source": [
    "<div class=\"alert alert-block alert-warning\">\n",
    "    <h3>1.3.3 Sort your SAM file?</h3>\n",
    "    <p>Sort your SAM file by genomic coordinates,</p>\n",
    "    <p>When you run this command, what is the output format of your result file?</p>\n",
    "    <h4>Tweak samtools and change your sorted SAM file's output to SAM. (Hint: You should be able to read the file using simple cat or less)</h4>\n",
    "</div>"
   ]
  },
  {
   "cell_type": "code",
   "execution_count": 9,
   "id": "b5a61e2c",
   "metadata": {},
   "outputs": [
    {
     "name": "stdout",
     "output_type": "stream",
     "text": [
      "@HD\tVN:1.6\tSO:coordinate\r\n",
      "@SQ\tSN:chr1\tLN:248956422\r\n",
      "@SQ\tSN:chr10\tLN:133797422\r\n",
      "@SQ\tSN:chr11\tLN:135086622\r\n",
      "@SQ\tSN:chr11_KI270721v1_random\tLN:100316\r\n"
     ]
    }
   ],
   "source": [
    "#Head your sorted SAM file here. Show the first 5 lines.\n",
    "!head -n 5 ~/scratch/Current_Projects/Project_2/VariantCalling/SRR715907.Minimap.sorted.sam"
   ]
  },
  {
   "cell_type": "markdown",
   "id": "d6a149f8",
   "metadata": {},
   "source": [
    "<div class=\"alert alert-block alert-warning\">\n",
    "    <h3>1.3.4 Convert your SAM file to a BAM file.</h3>\n",
    "    <p>This should be a single one line command.</p>\n",
    "</div>"
   ]
  },
  {
   "cell_type": "code",
   "execution_count": 11,
   "id": "6537a5e6",
   "metadata": {},
   "outputs": [
    {
     "name": "stdout",
     "output_type": "stream",
     "text": [
      "-rw-r--r--. 1 gmyers30 gtperson 3.3G Sep 28 14:08 /home/hice1/gmyers30/scratch/Current_Projects/Project_2/VariantCalling/SRR715907.bam\r\n"
     ]
    }
   ],
   "source": [
    "#Write the command run \"ls -lh\" to show the size and location of the file.\n",
    "\n",
    "!samtools view -bS ~/scratch/Current_Projects/Project_2/VariantCalling/SRR715907.Minimap.sorted.sam > ~/scratch/Current_Projects/Project_2/VariantCalling/SRR715907.bam\n",
    "!ls -lh ~/scratch/Current_Projects/Project_2/VariantCalling/SRR715907.bam"
   ]
  },
  {
   "cell_type": "markdown",
   "id": "669013a5",
   "metadata": {},
   "source": [
    "<div class=\"alert alert-block alert-warning\">\n",
    "    <h3>1.3.5 Statistics of your SAM file.</h3>\n",
    "    <p>1.How many total raw sequences does your SAM file have?</p>\n",
    "    <p>2.How many total reads are mapped in your SAM file?</p>\n",
    "</div>"
   ]
  },
  {
   "cell_type": "code",
   "execution_count": 13,
   "id": "e6efcb2a",
   "metadata": {},
   "outputs": [
    {
     "name": "stdout",
     "output_type": "stream",
     "text": [
      "86454736\r\n"
     ]
    }
   ],
   "source": [
    "!samtools view -c ~/scratch/Current_Projects/Project_2/VariantCalling/SRR715907.Minimap.sorted.sam"
   ]
  },
  {
   "cell_type": "code",
   "execution_count": 14,
   "id": "51df61f4",
   "metadata": {},
   "outputs": [
    {
     "name": "stdout",
     "output_type": "stream",
     "text": [
      "85370706\r\n"
     ]
    }
   ],
   "source": [
    "!samtools view -c -F 4 ~/scratch/Current_Projects/Project_2/VariantCalling/SRR715907.Minimap.sorted.sam"
   ]
  },
  {
   "cell_type": "markdown",
   "id": "ce083790",
   "metadata": {},
   "source": [
    "---"
   ]
  },
  {
   "cell_type": "markdown",
   "id": "32b65932",
   "metadata": {},
   "source": [
    "<div class=\"alert alert-block alert-warning\">\n",
    "    <h2>Part 2 - Variant Calling</h2>\n",
    "    <h2> Total points: 12+15+8 = 35</h2>\n",
    "</div>"
   ]
  },
  {
   "cell_type": "markdown",
   "id": "244832d6",
   "metadata": {},
   "source": [
    "# **2.1 Getting ready for variant calling**\n",
    "### *Total Questions: 6*\n",
    "### *Total Points: 1+1+3+2+2+3 = 12*\n",
    "\n",
    "\n",
    "---"
   ]
  },
  {
   "cell_type": "markdown",
   "id": "f323cd3b",
   "metadata": {},
   "source": [
    "<div class=\"alert alert-block alert-warning\">\n",
    "    <h3>2.1.1 Check your SAM file (you can also convert your SAM file to a BAM file and do the exercises on that)</h3>\n",
    "    <p><b>(i)</b> We will start from where we left off in Project #2. We want to make sure that we are using the corrent SAM file.</p>\n",
    "    <p><b>(ii)</b> Show that your SAM file is sorted</p>\n",
    "    \n",
    "</div>"
   ]
  },
  {
   "cell_type": "code",
   "execution_count": 23,
   "id": "16e81a27",
   "metadata": {},
   "outputs": [
    {
     "name": "stdout",
     "output_type": "stream",
     "text": [
      "-rw-r--r--. 1 gmyers30 gtperson 19G Sep 28 13:45 /home/hice1/gmyers30/scratch/Current_Projects/Project_2/VariantCalling/SRR715907.Minimap.sorted.sam\n",
      "total 196K\n",
      "-rw-r--r--. 1 gmyers30 gtperson 122K Sep 26 15:46 'Project2-ReadMapping&VariantCalling.ipynb'\n",
      "-rw-r--r--. 1 gmyers30 gtperson  64K Sep 28 14:35 'Project2-ReadMapping&VariantCalling_Gillian.ipynb'\n",
      "drwxr-xr-x. 2 gmyers30 gtperson 4.0K Sep 28 13:31  ReadAlignment\n",
      "-rw-r--r--. 1 gmyers30 gtperson    0 Sep 28 13:32  SRR715907.mpileup\n",
      "drwxr-xr-x. 2 gmyers30 gtperson 4.0K Sep 28 14:04  VariantCalling\n"
     ]
    }
   ],
   "source": [
    "#Check you SAM file here.\n",
    "!ls -lh ~/scratch/Current_Projects/Project_2/VariantCalling/SRR715907.Minimap.sorted.sam\n",
    "!ls -lh"
   ]
  },
  {
   "cell_type": "code",
   "execution_count": 22,
   "id": "d2a6a8f4",
   "metadata": {},
   "outputs": [
    {
     "name": "stdout",
     "output_type": "stream",
     "text": [
      "@HD\tVN:1.6\tSO:coordinate\r\n"
     ]
    }
   ],
   "source": [
    "#Show that your SAM file is sorted by genomic coordinates.\n",
    "!samtools view -H ~/scratch/Current_Projects/Project_2/VariantCalling/SRR715907.bam | grep ^@HD\n"
   ]
  },
  {
   "cell_type": "markdown",
   "id": "8943fedb",
   "metadata": {},
   "source": [
    "<div class=\"alert alert-block alert-warning\">\n",
    "    <h3>2.1.2 Basic statistics of your SAM file</h3>\n",
    "    <p>Get basic stats of your SAM/BAM file. Use SAMstats to see what summary information can you get from the tool. </p>\n",
    "</div>"
   ]
  },
  {
   "cell_type": "code",
   "execution_count": 30,
   "id": "3a97fced",
   "metadata": {},
   "outputs": [
    {
     "name": "stdout",
     "output_type": "stream",
     "text": [
      "starting flag calculation...\n",
      "0\n",
      "100000\n",
      "200000\n",
      "300000\n",
      "400000\n",
      "500000\n",
      "600000\n",
      "700000\n",
      "800000\n",
      "900000\n",
      "1000000\n",
      "1100000\n",
      "1200000\n",
      "1300000\n",
      "1400000\n",
      "1500000\n",
      "1600000\n",
      "1700000\n",
      "1800000\n",
      "1900000\n",
      "2000000\n",
      "2100000\n",
      "2200000\n",
      "2300000\n",
      "2400000\n",
      "2500000\n",
      "2600000\n",
      "2700000\n",
      "2800000\n",
      "2900000\n",
      "3000000\n",
      "3100000\n",
      "3200000\n",
      "3300000\n",
      "3400000\n",
      "3500000\n",
      "3600000\n",
      "3700000\n",
      "3800000\n",
      "3900000\n",
      "4000000\n",
      "4100000\n",
      "4200000\n",
      "4300000\n",
      "4400000\n",
      "4500000\n",
      "4600000\n",
      "4700000\n",
      "4800000\n",
      "4900000\n",
      "5000000\n",
      "5100000\n",
      "5200000\n",
      "5300000\n",
      "5400000\n",
      "5500000\n",
      "5600000\n",
      "5700000\n",
      "5800000\n",
      "5900000\n",
      "6000000\n",
      "6100000\n",
      "6200000\n",
      "6300000\n",
      "6400000\n",
      "6500000\n",
      "6600000\n",
      "6700000\n",
      "6800000\n",
      "6900000\n",
      "7000000\n",
      "7100000\n",
      "7200000\n",
      "7300000\n",
      "7400000\n",
      "7500000\n",
      "7600000\n",
      "7700000\n",
      "7800000\n",
      "7900000\n",
      "8000000\n",
      "8100000\n",
      "8200000\n",
      "8300000\n",
      "8400000\n",
      "8500000\n",
      "8600000\n",
      "8700000\n",
      "8800000\n",
      "8900000\n",
      "9000000\n",
      "9100000\n",
      "9200000\n",
      "9300000\n",
      "9400000\n",
      "9500000\n",
      "9600000\n",
      "9700000\n",
      "9800000\n",
      "9900000\n",
      "10000000\n",
      "10100000\n",
      "10200000\n",
      "10300000\n",
      "10400000\n",
      "10500000\n",
      "10600000\n",
      "10700000\n",
      "10800000\n",
      "10900000\n",
      "11000000\n",
      "11100000\n",
      "11200000\n",
      "11300000\n",
      "11400000\n",
      "11500000\n",
      "11600000\n",
      "11700000\n",
      "11800000\n",
      "11900000\n",
      "12000000\n",
      "12100000\n",
      "12200000\n",
      "12300000\n",
      "12400000\n",
      "12500000\n",
      "12600000\n",
      "12700000\n",
      "12800000\n",
      "12900000\n",
      "13000000\n",
      "13100000\n",
      "13200000\n",
      "13300000\n",
      "13400000\n",
      "13500000\n",
      "13600000\n",
      "13700000\n",
      "13800000\n",
      "13900000\n",
      "14000000\n",
      "14100000\n",
      "14200000\n",
      "14300000\n",
      "14400000\n",
      "14500000\n",
      "14600000\n",
      "14700000\n",
      "14800000\n",
      "14900000\n",
      "15000000\n",
      "15100000\n",
      "15200000\n",
      "15300000\n",
      "15400000\n",
      "15500000\n",
      "15600000\n",
      "15700000\n",
      "15800000\n",
      "15900000\n",
      "16000000\n",
      "16100000\n",
      "16200000\n",
      "16300000\n",
      "16400000\n",
      "16500000\n",
      "16600000\n",
      "16700000\n",
      "16800000\n",
      "16900000\n",
      "17000000\n",
      "17100000\n",
      "17200000\n",
      "17300000\n",
      "17400000\n",
      "17500000\n",
      "17600000\n",
      "17700000\n",
      "17800000\n",
      "17900000\n",
      "18000000\n",
      "18100000\n",
      "18200000\n",
      "18300000\n",
      "18400000\n",
      "18500000\n",
      "18600000\n",
      "18700000\n",
      "18800000\n",
      "18900000\n",
      "19000000\n",
      "19100000\n",
      "19200000\n",
      "19300000\n",
      "19400000\n",
      "19500000\n",
      "19600000\n",
      "19700000\n",
      "19800000\n",
      "19900000\n",
      "20000000\n",
      "20100000\n",
      "20200000\n",
      "20300000\n",
      "20400000\n",
      "20500000\n",
      "20600000\n",
      "20700000\n",
      "20800000\n",
      "20900000\n",
      "21000000\n",
      "21100000\n",
      "21200000\n",
      "21300000\n",
      "21400000\n",
      "21500000\n",
      "21600000\n",
      "21700000\n",
      "21800000\n",
      "21900000\n",
      "22000000\n",
      "22100000\n",
      "22200000\n",
      "22300000\n",
      "22400000\n",
      "22500000\n",
      "22600000\n",
      "22700000\n",
      "22800000\n",
      "22900000\n",
      "23000000\n",
      "23100000\n",
      "23200000\n",
      "23300000\n",
      "23400000\n",
      "23500000\n",
      "23600000\n",
      "23700000\n",
      "23800000\n",
      "23900000\n",
      "24000000\n",
      "24100000\n",
      "24200000\n",
      "24300000\n",
      "24400000\n",
      "24500000\n",
      "24600000\n",
      "24700000\n",
      "24800000\n",
      "24900000\n",
      "25000000\n",
      "25100000\n",
      "25200000\n",
      "25300000\n",
      "25400000\n",
      "25500000\n",
      "25600000\n",
      "25700000\n",
      "25800000\n",
      "25900000\n",
      "26000000\n",
      "26100000\n",
      "26200000\n",
      "26300000\n",
      "26400000\n",
      "26500000\n",
      "26600000\n",
      "26700000\n",
      "26800000\n",
      "26900000\n",
      "27000000\n",
      "27100000\n",
      "27200000\n",
      "27300000\n",
      "27400000\n",
      "27500000\n",
      "27600000\n",
      "27700000\n",
      "27800000\n",
      "27900000\n",
      "28000000\n",
      "28100000\n",
      "28200000\n",
      "28300000\n",
      "28400000\n",
      "28500000\n",
      "28600000\n",
      "28700000\n",
      "28800000\n",
      "28900000\n",
      "29000000\n",
      "29100000\n",
      "29200000\n",
      "29300000\n",
      "29400000\n",
      "29500000\n",
      "29600000\n",
      "29700000\n",
      "29800000\n",
      "29900000\n",
      "30000000\n",
      "30100000\n",
      "30200000\n",
      "30300000\n",
      "30400000\n",
      "30500000\n",
      "30600000\n",
      "30700000\n",
      "30800000\n",
      "30900000\n",
      "31000000\n",
      "31100000\n",
      "31200000\n",
      "31300000\n",
      "31400000\n",
      "31500000\n",
      "31600000\n",
      "31700000\n",
      "31800000\n",
      "31900000\n",
      "32000000\n",
      "32100000\n",
      "32200000\n",
      "32300000\n",
      "32400000\n",
      "32500000\n",
      "32600000\n",
      "32700000\n",
      "32800000\n",
      "32900000\n",
      "33000000\n",
      "33100000\n",
      "33200000\n",
      "33300000\n",
      "33400000\n",
      "33500000\n",
      "33600000\n",
      "33700000\n",
      "33800000\n",
      "33900000\n",
      "34000000\n",
      "34100000\n",
      "34200000\n",
      "34300000\n",
      "34400000\n",
      "34500000\n",
      "34600000\n",
      "34700000\n",
      "34800000\n",
      "34900000\n",
      "35000000\n",
      "35100000\n",
      "35200000\n",
      "35300000\n",
      "35400000\n",
      "35500000\n",
      "35600000\n",
      "35700000\n",
      "35800000\n",
      "35900000\n",
      "36000000\n",
      "36100000\n",
      "36200000\n",
      "36300000\n",
      "36400000\n",
      "36500000\n",
      "36600000\n",
      "36700000\n",
      "36800000\n",
      "36900000\n",
      "37000000\n",
      "37100000\n",
      "37200000\n",
      "37300000\n",
      "37400000\n",
      "37500000\n",
      "37600000\n",
      "37700000\n",
      "37800000\n",
      "37900000\n",
      "38000000\n",
      "38100000\n",
      "38200000\n",
      "38300000\n",
      "38400000\n",
      "38500000\n",
      "38600000\n",
      "38700000\n",
      "38800000\n",
      "38900000\n",
      "39000000\n",
      "39100000\n",
      "39200000\n",
      "39300000\n",
      "39400000\n",
      "39500000\n",
      "39600000\n",
      "39700000\n",
      "39800000\n",
      "39900000\n",
      "40000000\n",
      "40100000\n",
      "40200000\n",
      "40300000\n",
      "40400000\n",
      "40500000\n",
      "40600000\n",
      "40700000\n",
      "40800000\n",
      "40900000\n",
      "41000000\n",
      "41100000\n",
      "41200000\n",
      "41300000\n",
      "41400000\n",
      "41500000\n",
      "41600000\n",
      "41700000\n",
      "41800000\n",
      "41900000\n",
      "42000000\n",
      "42100000\n",
      "42200000\n",
      "42300000\n",
      "42400000\n",
      "42500000\n",
      "42600000\n",
      "42700000\n",
      "42800000\n",
      "42900000\n",
      "43000000\n",
      "43100000\n",
      "43200000\n",
      "43300000\n",
      "43400000\n",
      "43500000\n",
      "43600000\n",
      "43700000\n",
      "43800000\n",
      "43900000\n",
      "44000000\n",
      "44100000\n",
      "44200000\n",
      "44300000\n",
      "44400000\n",
      "44500000\n",
      "44600000\n",
      "44700000\n",
      "44800000\n",
      "44900000\n",
      "45000000\n",
      "45100000\n",
      "45200000\n",
      "45300000\n",
      "45400000\n",
      "45500000\n",
      "45600000\n",
      "45700000\n",
      "45800000\n",
      "45900000\n",
      "46000000\n",
      "46100000\n",
      "46200000\n",
      "46300000\n",
      "46400000\n",
      "46500000\n",
      "46600000\n",
      "46700000\n",
      "46800000\n",
      "46900000\n",
      "47000000\n",
      "47100000\n",
      "47200000\n",
      "47300000\n",
      "47400000\n",
      "47500000\n",
      "47600000\n",
      "47700000\n",
      "47800000\n",
      "47900000\n",
      "48000000\n",
      "48100000\n",
      "48200000\n",
      "48300000\n",
      "48400000\n",
      "48500000\n",
      "48600000\n",
      "48700000\n",
      "48800000\n",
      "48900000\n",
      "49000000\n",
      "49100000\n",
      "49200000\n",
      "49300000\n",
      "49400000\n",
      "49500000\n",
      "49600000\n",
      "49700000\n",
      "49800000\n",
      "49900000\n",
      "50000000\n",
      "50100000\n",
      "50200000\n",
      "50300000\n",
      "50400000\n",
      "50500000\n",
      "50600000\n",
      "50700000\n",
      "50800000\n",
      "50900000\n",
      "51000000\n",
      "51100000\n",
      "51200000\n",
      "51300000\n",
      "51400000\n",
      "51500000\n",
      "51600000\n",
      "51700000\n",
      "51800000\n",
      "51900000\n",
      "52000000\n",
      "52100000\n",
      "52200000\n",
      "52300000\n",
      "52400000\n",
      "52500000\n",
      "52600000\n",
      "52700000\n",
      "52800000\n",
      "52900000\n",
      "53000000\n",
      "53100000\n",
      "53200000\n",
      "53300000\n",
      "53400000\n",
      "53500000\n",
      "53600000\n",
      "53700000\n",
      "53800000\n",
      "53900000\n",
      "54000000\n",
      "54100000\n",
      "54200000\n",
      "54300000\n",
      "54400000\n",
      "54500000\n",
      "54600000\n",
      "54700000\n",
      "54800000\n",
      "54900000\n",
      "55000000\n",
      "55100000\n",
      "55200000\n",
      "55300000\n",
      "55400000\n",
      "55500000\n",
      "55600000\n",
      "55700000\n",
      "55800000\n",
      "55900000\n",
      "56000000\n",
      "56100000\n",
      "56200000\n",
      "56300000\n",
      "56400000\n",
      "56500000\n",
      "56600000\n",
      "56700000\n",
      "56800000\n",
      "56900000\n",
      "57000000\n",
      "57100000\n",
      "57200000\n",
      "57300000\n",
      "57400000\n",
      "57500000\n",
      "57600000\n",
      "57700000\n",
      "57800000\n",
      "57900000\n",
      "58000000\n",
      "58100000\n",
      "58200000\n",
      "58300000\n",
      "58400000\n",
      "58500000\n",
      "58600000\n",
      "58700000\n",
      "58800000\n",
      "58900000\n",
      "59000000\n",
      "59100000\n",
      "59200000\n",
      "59300000\n",
      "59400000\n",
      "59500000\n",
      "59600000\n",
      "59700000\n",
      "59800000\n",
      "59900000\n",
      "60000000\n",
      "60100000\n",
      "60200000\n",
      "60300000\n",
      "60400000\n",
      "60500000\n",
      "60600000\n",
      "60700000\n",
      "60800000\n",
      "60900000\n",
      "61000000\n",
      "61100000\n",
      "61200000\n",
      "61300000\n",
      "61400000\n",
      "61500000\n",
      "61600000\n",
      "61700000\n",
      "61800000\n",
      "61900000\n",
      "62000000\n",
      "62100000\n",
      "62200000\n",
      "62300000\n",
      "62400000\n",
      "62500000\n",
      "62600000\n",
      "62700000\n",
      "62800000\n",
      "62900000\n",
      "63000000\n",
      "63100000\n",
      "63200000\n",
      "63300000\n",
      "63400000\n",
      "63500000\n",
      "63600000\n",
      "63700000\n",
      "63800000\n",
      "63900000\n",
      "64000000\n",
      "64100000\n",
      "64200000\n",
      "64300000\n",
      "64400000\n",
      "64500000\n",
      "64600000\n",
      "64700000\n",
      "64800000\n",
      "64900000\n",
      "65000000\n",
      "65100000\n",
      "65200000\n",
      "65300000\n",
      "65400000\n",
      "65500000\n",
      "65600000\n",
      "65700000\n",
      "65800000\n",
      "65900000\n",
      "66000000\n",
      "66100000\n",
      "66200000\n",
      "66300000\n",
      "66400000\n",
      "66500000\n",
      "66600000\n",
      "66700000\n",
      "66800000\n",
      "66900000\n",
      "67000000\n",
      "67100000\n",
      "67200000\n",
      "67300000\n",
      "67400000\n",
      "67500000\n",
      "67600000\n",
      "67700000\n",
      "67800000\n",
      "67900000\n",
      "68000000\n",
      "68100000\n",
      "68200000\n",
      "68300000\n",
      "68400000\n",
      "68500000\n",
      "68600000\n",
      "68700000\n",
      "68800000\n",
      "68900000\n",
      "69000000\n",
      "69100000\n",
      "69200000\n",
      "69300000\n",
      "69400000\n",
      "69500000\n",
      "69600000\n",
      "69700000\n",
      "69800000\n",
      "69900000\n",
      "70000000\n",
      "70100000\n",
      "70200000\n",
      "70300000\n",
      "70400000\n",
      "70500000\n",
      "70600000\n",
      "70700000\n",
      "70800000\n",
      "70900000\n",
      "71000000\n",
      "71100000\n",
      "71200000\n",
      "71300000\n",
      "71400000\n",
      "71500000\n",
      "71600000\n",
      "71700000\n",
      "71800000\n",
      "71900000\n",
      "72000000\n",
      "72100000\n",
      "72200000\n",
      "72300000\n",
      "72400000\n",
      "72500000\n",
      "72600000\n",
      "72700000\n",
      "72800000\n",
      "72900000\n",
      "73000000\n",
      "73100000\n",
      "73200000\n",
      "73300000\n",
      "73400000\n",
      "73500000\n",
      "73600000\n",
      "73700000\n",
      "73800000\n",
      "73900000\n",
      "74000000\n",
      "74100000\n",
      "74200000\n",
      "74300000\n",
      "74400000\n",
      "74500000\n",
      "74600000\n",
      "74700000\n",
      "74800000\n",
      "74900000\n",
      "75000000\n",
      "75100000\n",
      "75200000\n",
      "75300000\n",
      "75400000\n",
      "75500000\n",
      "75600000\n",
      "75700000\n",
      "75800000\n",
      "75900000\n",
      "76000000\n",
      "76100000\n",
      "76200000\n",
      "76300000\n",
      "76400000\n",
      "76500000\n",
      "76600000\n",
      "76700000\n",
      "76800000\n",
      "76900000\n",
      "77000000\n",
      "77100000\n",
      "77200000\n",
      "77300000\n",
      "77400000\n",
      "77500000\n",
      "77600000\n",
      "77700000\n",
      "77800000\n",
      "77900000\n",
      "78000000\n",
      "78100000\n",
      "78200000\n",
      "78300000\n",
      "78400000\n",
      "78500000\n",
      "78600000\n",
      "78700000\n",
      "78800000\n",
      "78900000\n",
      "79000000\n",
      "79100000\n",
      "79200000\n",
      "79300000\n",
      "79400000\n",
      "79500000\n",
      "79600000\n",
      "79700000\n",
      "79800000\n",
      "79900000\n",
      "80000000\n",
      "80100000\n",
      "80200000\n",
      "80300000\n",
      "80400000\n",
      "80500000\n",
      "80600000\n",
      "80700000\n",
      "80800000\n",
      "80900000\n",
      "81000000\n",
      "81100000\n",
      "81200000\n",
      "81300000\n",
      "81400000\n",
      "81500000\n",
      "81600000\n",
      "81700000\n",
      "81800000\n",
      "81900000\n",
      "82000000\n",
      "82100000\n",
      "82200000\n",
      "82300000\n",
      "82400000\n",
      "82500000\n",
      "82600000\n",
      "82700000\n",
      "82800000\n",
      "82900000\n",
      "83000000\n",
      "83100000\n",
      "83200000\n",
      "83300000\n",
      "83400000\n",
      "83500000\n",
      "83600000\n",
      "83700000\n",
      "83800000\n",
      "83900000\n",
      "84000000\n",
      "84100000\n",
      "84200000\n",
      "84300000\n",
      "84400000\n",
      "84500000\n",
      "84600000\n",
      "84700000\n",
      "84800000\n",
      "84900000\n",
      "85000000\n",
      "85100000\n",
      "85200000\n",
      "85300000\n",
      "85400000\n",
      "85500000\n",
      "85600000\n",
      "85700000\n",
      "85800000\n",
      "85900000\n",
      "86000000\n",
      "86100000\n",
      "86200000\n",
      "86300000\n",
      "86400000\n",
      "finished parsing lines, summarizing...\n",
      "84368806 + 0 total \n",
      "27886252 + 0 secondary \n",
      "163 + 0 supplementary \n",
      "0 + 0 duplicates \n",
      "83284776 + 0 mapped (0.987:NA)\n",
      "0 + 0 paired in sequencing \n",
      "0 + 0 read1 \n",
      "0 + 0 read2 \n",
      "0 + 0 properly paired (0.0:NA)\n",
      "0 + 0 with itself and mate mapped \n",
      "0 + 0 singletons (0.0:NA)\n",
      "0 + 0 with mate mapped to a different chr \n",
      "0 + 0 with mate mapped to a different chr q5 \n"
     ]
    }
   ],
   "source": [
    "!SAMstats --sorted_sam_file ~/scratch/Current_Projects/Project_2/VariantCalling/SRR715907.Minimap.sorted.sam"
   ]
  },
  {
   "cell_type": "markdown",
   "id": "90f33e55",
   "metadata": {},
   "source": [
    "<div class=\"alert alert-block alert-warning\">\n",
    "    <h3>2.1.3 The pieleup format</h3>\n",
    "    <p><b>(i)</b> A lot of variant callers use the pielup format for calling variants from SAM file. Explain in 2-3 lines what is the pileup format?</p>\n",
    "    <p><b>(ii)</b> Explain the 6 columns of a pielup format file in your own words.</p>\n",
    "</div>"
   ]
  },
  {
   "cell_type": "code",
   "execution_count": 31,
   "id": "725bd049",
   "metadata": {},
   "outputs": [],
   "source": [
    "#Information about the pileup format.\n",
    "## each line corresponds to one genomic position and has info about the chromosome name, number of reads, the reference base and more. \n",
    "##It essentially tells us how reads align to each position in the genome given!"
   ]
  },
  {
   "cell_type": "code",
   "execution_count": null,
   "id": "658cf70e",
   "metadata": {},
   "outputs": [],
   "source": [
    "#Information about the 6 fields of the pieleup format file.\n",
    "#Write one sentence for each file.\n",
    "#1. chromosome name\n",
    "#2 Position\n",
    "#3 reference at that position\n",
    "#4 coverage depth (amount of reads aligned at that position)\n",
    "#5 Strings (indels, matches, mismatches, etc)\n",
    "#6 Base quality scores"
   ]
  },
  {
   "cell_type": "markdown",
   "id": "de23fff0",
   "metadata": {},
   "source": [
    "<div class=\"alert alert-block alert-warning\">\n",
    "    <h3>2.1.4 Create the pileup file</h3>\n",
    "    <p>Using samtools, create the pileup file for the SAM file of your 1000 genomes individuals</p>\n",
    "</div>"
   ]
  },
  {
   "cell_type": "code",
   "execution_count": 32,
   "id": "4ac166ab",
   "metadata": {},
   "outputs": [
    {
     "name": "stdout",
     "output_type": "stream",
     "text": [
      "Only SNPs will be reported\n",
      "Warning: No p-value threshold provided, so p-values will not be calculated\n",
      "Min coverage:\t8\n",
      "Min reads2:\t10\n",
      "Min var freq:\t0.2\n",
      "Min avg qual:\t15\n",
      "P-value thresh:\t0.01\n",
      "Reading input from /home/hice1/gmyers30/scratch/Current_Projects/Project_2/VariantCalling/SRR715907.mpileup\n",
      "356959227 bases in pileup file\n",
      "48624 variant positions (46414 SNP, 2210 indel)\n",
      "2191 were failed by the strand-filter\n",
      "44306 variant positions reported (44306 SNP, 0 indel)\n"
     ]
    }
   ],
   "source": [
    "#Your command for pileup here.\n",
    "!varscan mpileup2snp ~/scratch/Current_Projects/Project_2/VariantCalling/SRR715907.mpileup --min-reads2 10 --output-vcf > ~/scratch/Current_Projects/Project_2/VariantCalling/SRR715907.vcf"
   ]
  },
  {
   "cell_type": "code",
   "execution_count": 33,
   "id": "15c81b8b",
   "metadata": {},
   "outputs": [
    {
     "name": "stdout",
     "output_type": "stream",
     "text": [
      "##fileformat=VCFv4.3\n",
      "##source=VarScan2\n",
      "##INFO=<ID=ADP,Number=1,Type=Integer,Description=\"Average per-sample depth of bases with Phred score >= 15\">\n",
      "##INFO=<ID=WT,Number=1,Type=Integer,Description=\"Number of samples called reference (wild-type)\">\n",
      "##INFO=<ID=HET,Number=1,Type=Integer,Description=\"Number of samples called heterozygous-variant\">\n",
      "##INFO=<ID=HOM,Number=1,Type=Integer,Description=\"Number of samples called homozygous-variant\">\n",
      "##INFO=<ID=NC,Number=1,Type=Integer,Description=\"Number of samples not called\">\n",
      "##FILTER=<ID=str10,Description=\"Less than 10% or more than 90% of variant supporting reads on one strand\">\n",
      "##FILTER=<ID=indelError,Description=\"Likely artifact due to indel reads at this position\">\n",
      "##FORMAT=<ID=GT,Number=1,Type=String,Description=\"Genotype\">\n",
      "chr12\t26913417\t.\tC\tT\t.\tPASS\tADP=32;WT=0;HET=1;HOM=0;NC=0\tGT:GQ:SDP:DP:RD:AD:FREQ:PVAL:RBQ:ABQ:RDF:RDR:ADF:ADR\t0/1:45:32:32:19:13:40.62%:2.6443E-5:37:39:17:2:13:0\n",
      "chr12\t27022561\t.\tT\tC\t.\tPASS\tADP=150;WT=0;HET=0;HOM=1;NC=0\tGT:GQ:SDP:DP:RD:AD:FREQ:PVAL:RBQ:ABQ:RDF:RDR:ADF:ADR\t1/1:255:150:150:0:150:100%:1.0666E-89:0:35:0:0:77:73\n",
      "chr12\t27081572\t.\tA\tT\t.\tPASS\tADP=13;WT=0;HET=0;HOM=1;NC=0\tGT:GQ:SDP:DP:RD:AD:FREQ:PVAL:RBQ:ABQ:RDF:RDR:ADF:ADR\t1/1:70:13:13:0:13:100%:9.6148E-8:0:35:0:0:5:8\n",
      "chr12\t27147487\t.\tT\tC\t.\tPASS\tADP=14;WT=0;HET=0;HOM=1;NC=0\tGT:GQ:SDP:DP:RD:AD:FREQ:PVAL:RBQ:ABQ:RDF:RDR:ADF:ADR\t1/1:76:14:14:0:14:100%:2.4927E-8:0:38:0:0:10:4\n",
      "chr12\t27317933\t.\tG\tA\t.\tPASS\tADP=11;WT=0;HET=0;HOM=1;NC=0\tGT:GQ:SDP:DP:RD:AD:FREQ:PVAL:RBQ:ABQ:RDF:RDR:ADF:ADR\t1/1:58:11:11:0:11:100%:1.4176E-6:0:35:0:0:8:3\n",
      "chr12\t27376286\t.\tA\tC\t.\tPASS\tADP=31;WT=0;HET=1;HOM=0;NC=0\tGT:GQ:SDP:DP:RD:AD:FREQ:PVAL:RBQ:ABQ:RDF:RDR:ADF:ADR\t0/1:50:31:31:17:14:45.16%:9.1194E-6:38:39:11:6:12:2\n",
      "chr12\t27472890\t.\tA\tT\t.\tPASS\tADP=22;WT=0;HET=1;HOM=0;NC=0\tGT:GQ:SDP:DP:RD:AD:FREQ:PVAL:RBQ:ABQ:RDF:RDR:ADF:ADR\t0/1:55:22:22:8:14:63.64%:2.7817E-6:35:37:2:6:4:10\n",
      "chr12\t27474743\t.\tC\tG\t.\tPASS\tADP=22;WT=0;HET=1;HOM=0;NC=0\tGT:GQ:SDP:DP:RD:AD:FREQ:PVAL:RBQ:ABQ:RDF:RDR:ADF:ADR\t0/1:55:22:22:8:14:63.64%:2.7817E-6:38:38:7:1:10:4\n",
      "chr12\t27474872\t.\tG\tA\t.\tPASS\tADP=54;WT=0;HET=1;HOM=0;NC=0\tGT:GQ:SDP:DP:RD:AD:FREQ:PVAL:RBQ:ABQ:RDF:RDR:ADF:ADR\t0/1:86:54:54:30:24:44.44%:2.1774E-9:38:38:15:15:13:11\n",
      "chr12\t27495777\t.\tC\tT\t.\tPASS\tADP=58;WT=0;HET=1;HOM=0;NC=0\tGT:GQ:SDP:DP:RD:AD:FREQ:PVAL:RBQ:ABQ:RDF:RDR:ADF:ADR\t0/1:53:58:58:42:16:27.59%:4.6015E-6:37:37:18:24:5:11\n",
      "chr12\t27633482\t.\tA\tG\t.\tPASS\tADP=41;WT=0;HET=1;HOM=0;NC=0\tGT:GQ:SDP:DP:RD:AD:FREQ:PVAL:RBQ:ABQ:RDF:RDR:ADF:ADR\t0/1:56:41:41:25:16:39.02%:2.4696E-6:37:35:6:19:2:14\n",
      "chr18\t36576534\t.\tA\tG\t.\tPASS\tADP=76;WT=0;HET=1;HOM=0;NC=0\tGT:GQ:SDP:DP:RD:AD:FREQ:PVAL:RBQ:ABQ:RDF:RDR:ADF:ADR\t0/1:93:76:76:49:27:35.53%:4.4502E-10:37:37:14:35:10:17\n",
      "chr18\t36594995\t.\tT\tC\t.\tPASS\tADP=16;WT=0;HET=0;HOM=1;NC=0\tGT:GQ:SDP:DP:RD:AD:FREQ:PVAL:RBQ:ABQ:RDF:RDR:ADF:ADR\t1/1:87:16:16:0:16:100%:1.6637E-9:0:38:0:0:2:14\n",
      "chr18\t36602837\t.\tA\tG\t.\tPASS\tADP=28;WT=0;HET=1;HOM=0;NC=0\tGT:GQ:SDP:DP:RD:AD:FREQ:PVAL:RBQ:ABQ:RDF:RDR:ADF:ADR\t0/1:61:28:28:12:16:57.14%:7.3043E-7:37:38:0:12:0:16\n",
      "chr18\t36625422\t.\tA\tG\t.\tPASS\tADP=39;WT=0;HET=0;HOM=1;NC=0\tGT:GQ:SDP:DP:RD:AD:FREQ:PVAL:RBQ:ABQ:RDF:RDR:ADF:ADR\t1/1:224:39:39:0:39:100%:3.6742E-23:0:37:0:0:31:8\n",
      "chr18\t36717790\t.\tC\tT\t.\tPASS\tADP=87;WT=0;HET=1;HOM=0;NC=0\tGT:GQ:SDP:DP:RD:AD:FREQ:PVAL:RBQ:ABQ:RDF:RDR:ADF:ADR\t0/1:145:87:87:47:40:45.98%:2.5278E-15:36:36:40:7:29:11\n",
      "chr18\t36730705\t.\tC\tT\t.\tPASS\tADP=36;WT=0;HET=1;HOM=0;NC=0\tGT:GQ:SDP:DP:RD:AD:FREQ:PVAL:RBQ:ABQ:RDF:RDR:ADF:ADR\t0/1:48:36:36:22:14:38.89%:1.2704E-5:35:38:10:12:9:5\n",
      "chr18\t36744128\t.\tG\tA\t.\tPASS\tADP=49;WT=0;HET=1;HOM=0;NC=0\tGT:GQ:SDP:DP:RD:AD:FREQ:PVAL:RBQ:ABQ:RDF:RDR:ADF:ADR\t0/1:75:49:49:28:21:42.86%:3.0726E-8:37:36:14:14:10:11\n",
      "chr18\t42743532\t.\tG\tT\t.\tPASS\tADP=16;WT=0;HET=0;HOM=1;NC=0\tGT:GQ:SDP:DP:RD:AD:FREQ:PVAL:RBQ:ABQ:RDF:RDR:ADF:ADR\t1/1:87:16:16:0:16:100%:1.6637E-9:0:39:0:0:11:5\n",
      "chr18\t43270331\t.\tG\tA\t.\tPASS\tADP=33;WT=0;HET=1;HOM=0;NC=0\tGT:GQ:SDP:DP:RD:AD:FREQ:PVAL:RBQ:ABQ:RDF:RDR:ADF:ADR\t0/1:41:33:33:21:12:36.36%:7.2075E-5:37:39:17:4:8:4\n",
      "chr18\t44951272\t.\tC\tT\t.\tPASS\tADP=22;WT=0;HET=1;HOM=0;NC=0\tGT:GQ:SDP:DP:RD:AD:FREQ:PVAL:RBQ:ABQ:RDF:RDR:ADF:ADR\t0/1:35:22:22:12:10:45.45%:2.6061E-4:37:37:4:8:2:8\n",
      "chr18\t44952728\t.\tC\tA\t.\tPASS\tADP=77;WT=0;HET=1;HOM=0;NC=0\tGT:GQ:SDP:DP:RD:AD:FREQ:PVAL:RBQ:ABQ:RDF:RDR:ADF:ADR\t0/1:155:77:77:36:41:53.25%:2.8183E-16:37:34:15:21:18:23\n"
     ]
    }
   ],
   "source": [
    "#Show the first 10 lines of the Pileup file.\n",
    "!head ~/scratch/Current_Projects/Project_2/VariantCalling/SRR715907.vcf -n10\n",
    "#Show the 10,000 - 10,010 lines of the Pileup file.\n",
    "!head -n10010 ~/scratch/Current_Projects/Project_2/VariantCalling/SRR715907.vcf | tail -n11\n",
    "#Show the 200,000 - 200,010 lines of the Pileup file.\n",
    "!head -n20010 ~/scratch/Current_Projects/Project_2/VariantCalling/SRR715907.vcf | tail -n11"
   ]
  },
  {
   "cell_type": "markdown",
   "id": "49431713",
   "metadata": {},
   "source": [
    "<div class=\"alert alert-block alert-warning\">\n",
    "    <h3>2.1.5 Look more into the pileup file</h3>\n",
    "    <p>Show the 100,000th entry in your pileup file and explain (2-4 lines) what information column 5 <b><i>Read Results</i></b> is providing the user</p>\n",
    "</div>"
   ]
  },
  {
   "cell_type": "code",
   "execution_count": 35,
   "id": "53d8984c",
   "metadata": {},
   "outputs": [
    {
     "name": "stdout",
     "output_type": "stream",
     "text": [
      "chr1\t943958\tT\t12\t,,,,,,,,,,.,\tJI1IJGJGFDGB\r\n"
     ]
    }
   ],
   "source": [
    "#Show the 100,000th entry here.\n",
    "!sed -n '100000p' ~/scratch/Current_Projects/Project_2/VariantCalling/SRR715907.mpileup"
   ]
  },
  {
   "cell_type": "markdown",
   "id": "35b7141f",
   "metadata": {},
   "source": [
    "#Explain the entry here.\n",
    "#Column 5 shows the read bases that line up in the refernce genome. Dots/commas mean the base matches the reference, dot refers to forward strand and comma is for reverse strand. AGCT means the read has a difference base than the reference genome used.Any symbols represent the start and end or an indel."
   ]
  },
  {
   "cell_type": "markdown",
   "id": "367b7759",
   "metadata": {},
   "source": [
    "<div class=\"alert alert-block alert-warning\">\n",
    "    <h3>2.1.6 Plot the read count distribution</h3>\n",
    "    <p>A graph that shows how many reads are aligning to a specific genomic region could be helpful for determining flags for our variant caller. \n",
    "    <p>Plot a graph (thin bars or line) between <b><i>Read Count (y-axis)</i></b> and <b><i>Position (x-axis)</i></b> only for <u>chromosome 20</u>.</p>\n",
    "    <hr>\n",
    "    <p>You can use Python for visualization, but will have to filter the pileup file using bash or python.</p>\n",
    "</div>"
   ]
  },
  {
   "cell_type": "code",
   "execution_count": 37,
   "id": "8acd8c4c",
   "metadata": {},
   "outputs": [
    {
     "data": {
      "image/png": "[encoded data removed]",
      "text/plain": [
       "<Figure size 1200x400 with 1 Axes>"
      ]
     },
     "metadata": {},
     "output_type": "display_data"
    }
   ],
   "source": [
    "#An awk command can help you create a file with just the information for chr20.\n",
    "!awk '$1 == \"chr20\" {print $2 \"\\t\" $4}' ~/scratch/Current_Projects/Project_2/VariantCalling/SRR715907.mpileup > ~/scratch/Current_Projects/Project_2/VariantCalling/chr20.tsv\n",
    "import pandas as pd\n",
    "\n",
    "df = pd.read_csv(\"~/scratch/Current_Projects/Project_2/VariantCalling/chr20.tsv\", sep=\"\\t\", header=None, names=[\"Position\", \"ReadCount\"])\n",
    "df.head()\n",
    "\n",
    "import matplotlib.pyplot as plt\n",
    "\n",
    "plt.figure(figsize=(12, 4))\n",
    "plt.plot(df[\"Position\"], df[\"ReadCount\"], linewidth=0.5, color='blue')\n",
    "plt.xlabel(\"Position on chr20\")\n",
    "plt.ylabel(\"Read Count\")\n",
    "plt.title(\"Coverage on Chromosome 20 (from .mpileup)\")\n",
    "plt.tight_layout()\n",
    "plt.show()\n"
   ]
  },
  {
   "cell_type": "markdown",
   "id": "a8b119fe",
   "metadata": {},
   "source": [
    "# **2.2 Variant calling**\n",
    "### *Total Questions: 4*\n",
    "### *Total Points: 4+3+4+4 = 15*\n",
    "\n",
    "\n",
    "---"
   ]
  },
  {
   "cell_type": "markdown",
   "id": "68860d7d",
   "metadata": {},
   "source": [
    "<div class=\"alert alert-block alert-warning\">\n",
    "    <h3>2.2.1 Call the variants (SNPs and Short Indels)</h3>\n",
    "    <p><b>(i)</b> Write the command used and justify the flags you have used using one sentence.</p>\n",
    "    <p><b>(ii)</b> Informed decision.</p>\n",
    "</div>"
   ]
  },
  {
   "cell_type": "code",
   "execution_count": 40,
   "id": "e6bf56ef",
   "metadata": {},
   "outputs": [
    {
     "name": "stdout",
     "output_type": "stream",
     "text": [
      "Only indels will be reported\n",
      "Min coverage:\t10\n",
      "Min reads2:\t3\n",
      "Min var freq:\t0.2\n",
      "Min avg qual:\t15\n",
      "P-value thresh:\t0.05\n",
      "Reading input from /home/hice1/gmyers30/scratch/Current_Projects/Project_2/VariantCalling/SRR715907.mpileup\n",
      "356959227 bases in pileup file\n",
      "60561 variant positions (57162 SNP, 3399 indel)\n",
      "2203 were failed by the strand-filter\n",
      "3315 variant positions reported (0 SNP, 3315 indel)\n",
      "Only SNPs will be reported\n",
      "Min coverage:\t10\n",
      "Min reads2:\t3\n",
      "Min var freq:\t0.2\n",
      "Min avg qual:\t15\n",
      "P-value thresh:\t0.05\n",
      "Reading input from /home/hice1/gmyers30/scratch/Current_Projects/Project_2/VariantCalling/SRR715907.mpileup\n",
      "356959227 bases in pileup file\n",
      "60561 variant positions (57162 SNP, 3399 indel)\n",
      "2203 were failed by the strand-filter\n",
      "55043 variant positions reported (55043 SNP, 0 indel)\n"
     ]
    }
   ],
   "source": [
    "#Use VarScan for calling variants. Look up the appropriate command for this.\\\n",
    "\n",
    "#For short indels\n",
    "\n",
    "!varscan mpileup2indel ~/scratch/Current_Projects/Project_2/VariantCalling/SRR715907.mpileup \\\n",
    "  --min-coverage 10 \\\n",
    "  --min-reads2 3 \\\n",
    "  --min-var-freq 0.2 \\\n",
    "  --p-value 0.05 \\\n",
    "  --strand-filter 1 \\\n",
    "  --output-vcf 1 > ~/scratch/Current_Projects/Project_2/VariantCalling/SRR715907.indels.vcf\n",
    "\n",
    "#For SNP's\n",
    "!varscan mpileup2snp ~/scratch/Current_Projects/Project_2/VariantCalling/SRR715907.mpileup \\\n",
    "  --min-coverage 10 \\\n",
    "  --min-reads2 3 \\\n",
    "  --min-var-freq 0.2 \\\n",
    "  --p-value 0.05 \\\n",
    "  --strand-filter 1 \\\n",
    "  --output-vcf 1 > ~/scratch/Current_Projects/Project_2/VariantCalling/SRR715907.snp.vcf\n",
    "\n",
    "\n"
   ]
  },
  {
   "cell_type": "markdown",
   "id": "20ca829b",
   "metadata": {},
   "source": [
    "#We previously used WES data and are aligning that to hg38\n",
    "\n",
    "#min coverage 10 : WES can be a bit unreliable and have variable coverage based on how many exons are captured. Settting this to 10 helps avoid those low coverage areas and avoids false calling.\n",
    "#strand-filter: helps us capture variants that have BOTH forward and backward strands\n",
    "#min-reads : avoids calling variants with low reads, those are most likely noise\n",
    "#min-var-freq: in germline WES, variants 50% are heterozygous or 100% homozygous, if its less than 50% it could be error, but 20% is most def error and we need to filter those."
   ]
  },
  {
   "cell_type": "markdown",
   "id": "b9e448c4",
   "metadata": {},
   "source": [
    "<div class=\"alert alert-block alert-warning\">\n",
    "    <h3>2.2.2 Select any random variant in your VCF file which lies between the positions 20,800,000 and 30,800,000 on chromosome 16</h3>\n",
    "    <p><b>Q.</b> What is the average depth of bases for this variant called on chromosome 16</p>\n",
    "</div>"
   ]
  },
  {
   "cell_type": "code",
   "execution_count": 42,
   "id": "464292bb",
   "metadata": {},
   "outputs": [
    {
     "name": "stdout",
     "output_type": "stream",
     "text": [
      "chr16\t28592072\t.\tT\tC\t.\tPASS\tADP=20;WT=0;HET=0;HOM=1;NC=0\tGT:GQ:SDP:DP:RD:AD:FREQ:PVAL:RBQ:ABQ:RDF:RDR:ADF:ADR\t1/1:111:20:20:0:20:100%:7.2544E-12:0:32:0:0:14:6\r\n"
     ]
    }
   ],
   "source": [
    "#Extract this variant. There are multiple ways of doing this. Some fast and some easy.\n",
    "\n",
    "#extracting only chromsome 16 \n",
    "#!grep -P '^16\\t' ~/scratch/Current_Projects/Project_2/VariantCalling/SRR715907.snp.vcf > chr16.snps.vcf\n",
    "#!head -n30800000 ~/scratch/Current_Projects/Project_2/VariantCalling/chr16.snps.vcf | tail -n10000001 \n",
    "\n",
    "#alternative faster way:\n",
    "!awk '$1==\"chr16\" && $2 >= 20800000 && $2 <= 30800000 && !/^#/' ~/scratch/Current_Projects/Project_2/VariantCalling/SRR715907.snp.vcf | shuf -n 1\n"
   ]
  },
  {
   "cell_type": "code",
   "execution_count": null,
   "id": "96c79a9f",
   "metadata": {},
   "outputs": [],
   "source": [
    "#The information is there in your VCF file.\n",
    "#ADP = 20"
   ]
  },
  {
   "cell_type": "markdown",
   "id": "ea33031d",
   "metadata": {},
   "source": [
    "<div class=\"alert alert-block alert-warning\">\n",
    "    <h3>2.2.3 How many indels do you have in your VCF file?</p>\n",
    "</div>"
   ]
  },
  {
   "cell_type": "code",
   "execution_count": 44,
   "id": "0dab2c90",
   "metadata": {},
   "outputs": [
    {
     "name": "stdout",
     "output_type": "stream",
     "text": [
      "Indel count: 3315\r\n"
     ]
    }
   ],
   "source": [
    "!awk 'BEGIN {count=0} !/^#/ {if(length($4) != length($5)) count++} END {print \"Indel count:\", count}' ~/scratch/Current_Projects/Project_2/VariantCalling/SRR715907.indels.vcf\n"
   ]
  },
  {
   "cell_type": "markdown",
   "id": "e36f85aa",
   "metadata": {},
   "source": [
    "<div class=\"alert alert-block alert-warning\">\n",
    "    <h3>2.2.4 Select any random variant in your VCF file which lies between the position 203,000,000 and 230,000,000 on chromosome 2.</h3>\n",
    "    <p><b>(i)</b> What is the variation observed for your 1000 genome individual at this position? Is it 0/0 1/1/ 0/1 or 1/0? How many copies of reference alleles does your individual carry at this position?</p>\n",
    "    <p><b>(ii)</b> How many read bases (forward and reverse) from your pileup file (as selected by VarScan) supported the alternative allele and how many variants supported the reference allele at this position?</p>\n",
    "</div>"
   ]
  },
  {
   "cell_type": "code",
   "execution_count": 45,
   "id": "dc62c42d",
   "metadata": {},
   "outputs": [
    {
     "name": "stdout",
     "output_type": "stream",
     "text": [
      "chr2\t209921413\t.\tG\tA\t.\tPASS\tADP=14;WT=0;HET=0;HOM=1;NC=0\tGT:GQ:SDP:DP:RD:AD:FREQ:PVAL:RBQ:ABQ:RDF:RDR:ADF:ADR\t1/1:76:14:14:0:14:100%:2.4927E-8:0:39:0:0:12:2\r\n"
     ]
    }
   ],
   "source": [
    "!awk '$1==\"chr2\" && $2 >= 203000000 && $2 <= 230000000 && !/^#/' ~/scratch/Current_Projects/Project_2/VariantCalling/SRR715907.snp.vcf | shuf -n 1\n"
   ]
  },
  {
   "cell_type": "code",
   "execution_count": null,
   "id": "f2f3591f",
   "metadata": {},
   "outputs": [],
   "source": [
    "#Variation observed and number of copies for reference allele.\n",
    "##GT is genotype, 1/1 means it is homozygous alternate and there are no copies of the reference allele, the ref is G and alternate is A,"
   ]
  },
  {
   "cell_type": "code",
   "execution_count": 46,
   "id": "463efd14",
   "metadata": {},
   "outputs": [
    {
     "name": "stdout",
     "output_type": "stream",
     "text": [
      "chr2\t209921413\tG\t14\tAAaaAAAAAAAAAA\tDIJJJJJJHBJJIJ\r\n"
     ]
    }
   ],
   "source": [
    "#Number of reads supporting the ref & alt allele.\n",
    "!awk '$1==\"chr2\" && $2==209921413' ~/scratch/Current_Projects/Project_2/VariantCalling/SRR715907.mpileup\n",
    "\n",
    "#The uppercqases are the forward strand on the alternate allele, most support the alt allele"
   ]
  },
  {
   "cell_type": "markdown",
   "id": "9841242e",
   "metadata": {},
   "source": [
    "# **2.3 Filtering**\n",
    "### *Total Questions: 1*\n",
    "### *Total Points: 8*\n",
    "\n",
    "\n",
    "---"
   ]
  },
  {
   "cell_type": "markdown",
   "id": "63f0b0dc",
   "metadata": {},
   "source": [
    "<div class=\"alert alert-block alert-warning\">\n",
    "    <h3>2.3.1 Extract variants that have average per sample depth of > 50. </h3>\n",
    "    <p>Show your command and number of variants before and after</p>\n",
    "</div>"
   ]
  },
  {
   "cell_type": "code",
   "execution_count": 8,
   "id": "e303f52b",
   "metadata": {},
   "outputs": [
    {
     "name": "stdout",
     "output_type": "stream",
     "text": [
      "##fileformat=VCFv4.3\n",
      "##source=VarScan2\n",
      "##INFO=<ID=ADP,Number=1,Type=Integer,Description=\"Average per-sample depth of bases with Phred score >= 15\">\n",
      "##INFO=<ID=WT,Number=1,Type=Integer,Description=\"Number of samples called reference (wild-type)\">\n",
      "##INFO=<ID=HET,Number=1,Type=Integer,Description=\"Number of samples called heterozygous-variant\">\n",
      "##INFO=<ID=HOM,Number=1,Type=Integer,Description=\"Number of samples called homozygous-variant\">\n",
      "##INFO=<ID=NC,Number=1,Type=Integer,Description=\"Number of samples not called\">\n",
      "##FILTER=<ID=str10,Description=\"Less than 10% or more than 90% of variant supporting reads on one strand\">\n",
      "##FILTER=<ID=indelError,Description=\"Likely artifact due to indel reads at this position\">\n",
      "##FORMAT=<ID=GT,Number=1,Type=String,Description=\"Genotype\">\n",
      "18005 /home/hice1/gmyers30/scratch/Current_Projects/Project_2/VariantCalling/variants_DPgt50.vcf\n"
     ]
    }
   ],
   "source": [
    "#!cat ~/scratch/Current_Projects/Project_2/VariantCalling/SRR715907.snp.vcf ~/scratch/Current_Projects/Project_2/VariantCalling/SRR715907.indels.vcf | grep -v '^#' | sort -k1,1 -k2,2n > ~/scratch/Current_Projects/Project_2/VariantCalling/combined_variants.vcf\n",
    "!grep '^#' ~/scratch/Current_Projects/Project_2/VariantCalling/SRR715907.snp.vcf > ~/scratch/Current_Projects/Project_2/VariantCalling/combined_variants.vcf\n",
    "!cat ~/scratch/Current_Projects/Project_2/VariantCalling/SRR715907.snp.vcf \\\n",
    "~/scratch/Current_Projects/Project_2/VariantCalling/SRR715907.indels.vcf \\\n",
    "| grep -v '^#' | sort -k1,1 -k2,2n >> ~/scratch/Current_Projects/Project_2/VariantCalling/combined_variants.vcf\n",
    "\n",
    "!awk -F'\\t' 'BEGIN{OFS=\"\\t\"} /^#/ {print; next} {split($9, a, \":\"); split($10, b, \":\"); for (i=1; i<=length(a); i++) {if (a[i]==\"DP\" && b[i]>50) print} }' \\\n",
    "~/scratch/Current_Projects/Project_2/VariantCalling/combined_variants.vcf \\\n",
    "> ~/scratch/Current_Projects/Project_2/VariantCalling/variants_DPgt50.vcf\n",
    "\n",
    "!head ~/scratch/Current_Projects/Project_2/VariantCalling/variants_DPgt50.vcf\n",
    "!wc -l ~/scratch/Current_Projects/Project_2/VariantCalling/variants_DPgt50.vcf\n"
   ]
  },
  {
   "cell_type": "code",
   "execution_count": 9,
   "id": "5a5adbe7",
   "metadata": {},
   "outputs": [
    {
     "name": "stdout",
     "output_type": "stream",
     "text": [
      "58358\n",
      "17981\n"
     ]
    }
   ],
   "source": [
    "#before filtering\n",
    "!grep -v '^#' ~/scratch/Current_Projects/Project_2/VariantCalling/combined_variants.vcf | wc -l\n",
    "#after filtering\n",
    "!grep -v '^#' ~/scratch/Current_Projects/Project_2/VariantCalling/variants_DPgt50.vcf | wc -l\n"
   ]
  },
  {
   "cell_type": "markdown",
   "id": "f0a24a0d",
   "metadata": {},
   "source": [
    "# **3. Comparative Analysis**\n",
    "### *Total Questions: 3*\n",
    "### *Total points: 15+13+2 = 30*\n",
    "\n",
    "---"
   ]
  },
  {
   "cell_type": "markdown",
   "id": "32cca578",
   "metadata": {},
   "source": [
    "<div class=\"alert alert-block alert-warning\">\n",
    "    <h3>3.1 Rerun the above workflow using another tool of your choice</i></h3>\n",
    "    <p> Briefly explain why you chose the tool </p>\n",
    "</div>"
   ]
  },
  {
   "cell_type": "markdown",
   "id": "4d902b2c",
   "metadata": {},
   "source": [
    "We are using bwa and minimap2 for comparison. BWA is the gold standard for Illumina short read, slower but highly accurate for SNP/indel calling. Minimap2 is much faster, lighter on memory, and works across short/long reads, but can be slightly less sensitive for very short reads."
   ]
  },
  {
   "cell_type": "code",
   "execution_count": null,
   "id": "8b20c309",
   "metadata": {},
   "outputs": [],
   "source": [
    "!bwa index -a bwtsw hg38.fa\n",
    "!bwa mem hg38.fa SRR715907_1.Trimmed.fastq SRR715907_2.Trimmed.fastq > SRR715907.sam\n",
    "!samtools view -S -b SRR715907.sam | samtools sort -o SRR715907.sorted.bam\n",
    "!samtools index SRR715907.sorted.bam\n",
    "!samtools flagstat SRR715907.sorted.bam"
   ]
  },
  {
   "cell_type": "markdown",
   "id": "dab716f2",
   "metadata": {},
   "source": [
    "<div class=\"alert alert-block alert-warning\">\n",
    "    <h3>3.2 Compare the results obtained from the original tools used</i></h3>\n",
    "</div>"
   ]
  },
  {
   "cell_type": "markdown",
   "id": "adf53f94",
   "metadata": {},
   "source": [
    "Results from minimap2: Total reads: ~ 84.4 million Mapped Reads: ~83.3 million Secondary Alignments: ~27.9 million Supllementary alignments: ~163 Paired-end information: Not reported (all values = 0) because you aligned as single end ont paired end Duplicates : 0"
   ]
  },
  {
   "cell_type": "markdown",
   "id": "465ee038",
   "metadata": {},
   "source": [
    "Result from bwa: % mapped: 99.78% Total reads: 58.6 million Properly paired: 98.9% Singletons (only one mate mapped): ~700 Reads mapped to different chromosomes: ~77k (0.1%)"
   ]
  },
  {
   "cell_type": "markdown",
   "id": "5c697c26",
   "metadata": {},
   "source": [
    "<div class=\"alert alert-block alert-warning\">\n",
    "    <h3>3.3 On a scale of 1-10, how much did you rely on AI for the project?</i></h3>\n",
    "    <p> (1 = not at all, 10 = heavily dependent) </p>\n",
    "</div>"
   ]
  },
  {
   "cell_type": "markdown",
   "id": "ea0ad447",
   "metadata": {},
   "source": [
    "Our groups usage was about a 6!"
   ]
  }
 ],
 "metadata": {
  "kernelspec": {
   "display_name": "Python [conda env:biol6150]",
   "language": "python",
   "name": "conda-env-biol6150-py"
  },
  "language_info": {
   "codemirror_mode": {
    "name": "ipython",
    "version": 3
   },
   "file_extension": ".py",
   "mimetype": "text/x-python",
   "name": "python",
   "nbconvert_exporter": "python",
   "pygments_lexer": "ipython3",
   "version": "3.11.5"
  }
 },
 "nbformat": 4,
 "nbformat_minor": 5
}
